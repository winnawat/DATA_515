{
 "cells": [
  {
   "cell_type": "markdown",
   "metadata": {},
   "source": [
    "# Functions And Software Development Workflow\n",
    "Some key concepts\n",
    "- Function signature: its name, inputs, and outputs\n",
    "- Use notebooks for (a) exploratory development and (b) results presentation. **Don't** use notebooks to contain significant code.\n",
    "- To use a function inside a notebook, you must ``import`` its containint module."
   ]
  },
  {
   "cell_type": "markdown",
   "metadata": {},
   "source": [
    "## Iterative development of a function\n",
    "Construct a function that tests if a number is prime."
   ]
  },
  {
   "cell_type": "code",
   "execution_count": null,
   "metadata": {},
   "outputs": [],
   "source": [
    "# test for prime number: Can only be divided by itself\n",
    "\n",
    "# step 1: find the required steps. In this case, modulus = 0\n",
    "\n",
    "5 % 3"
   ]
  },
  {
   "cell_type": "code",
   "execution_count": null,
   "metadata": {},
   "outputs": [],
   "source": [
    "# test it, name the argument something intuitive\n",
    "value = 5 # this is the argument\n",
    "is_prime = True\n",
    "if value % 2 == 0:\n",
    "    is_prime = False\n",
    "    \n",
    "# here's the if. Now you're gonna need a FOR loop since we have to keep trying to divide with 2,3,5,7,...."
   ]
  },
  {
   "cell_type": "code",
   "execution_count": null,
   "metadata": {},
   "outputs": [],
   "source": [
    "import numpy as np\n",
    "value = 5\n",
    "is_prime = True\n",
    "# what number to attempt to divide the 'value' by?\n",
    "upper = np.ceil(np.sqrt(value)) # np. ceil is needed because we are doing integer division\n",
    "\n",
    "# now, we want to check numbers between 2 and 'upper'.\n",
    "for divisor in range(2, upper):\n",
    "    if value % divisor == 0:\n",
    "        is_prime = False\n",
    "        break # break when the number is not prime"
   ]
  },
  {
   "cell_type": "code",
   "execution_count": null,
   "metadata": {},
   "outputs": [],
   "source": [
    "# upper is not an integer!\n",
    "# solution, CAST upper as an integer\n",
    "\n",
    "import numpy as np\n",
    "value = 5\n",
    "is_prime = True\n",
    "upper = int(np.ceil(np.sqrt(value)))\n",
    "for divisor in range(2, upper):\n",
    "    if value % divisor == 0:\n",
    "        is_prime = False\n",
    "        break\n",
    "print (is_prime)"
   ]
  },
  {
   "cell_type": "code",
   "execution_count": null,
   "metadata": {},
   "outputs": [],
   "source": [
    "# now 5 works. Next test, negative numbers! but this will be out of range.\n",
    "# This doesn't work with 4. So the 'upper' has to be 'upper +1'\n",
    "\n",
    "import numpy as np\n",
    "value = 4\n",
    "is_prime = True\n",
    "upper = int(np.ceil(np.sqrt(value)))\n",
    "for divisor in range(2, upper+1):\n",
    "    if value % divisor == 0:\n",
    "        is_prime = False\n",
    "        break\n",
    "print (is_prime)"
   ]
  },
  {
   "cell_type": "code",
   "execution_count": null,
   "metadata": {},
   "outputs": [],
   "source": [
    "def isPrime(value):\n",
    "    is_prime = True\n",
    "    upper = int(np.ceil(np.sqrt(value)))\n",
    "    if value == 2:\n",
    "        is_prime = True\n",
    "        return is_prime\n",
    "    for divisor in range(2, upper+1):\n",
    "        if value % divisor == 0:\n",
    "            is_prime = False\n",
    "            break\n",
    "    return is_prime"
   ]
  },
  {
   "cell_type": "code",
   "execution_count": null,
   "metadata": {},
   "outputs": [],
   "source": [
    "for val in range(2,20):\n",
    "    print(\"%d: %d\" % (val, isPrime(val)))\n",
    "    \n",
    "# 2 is wrong!"
   ]
  },
  {
   "cell_type": "markdown",
   "metadata": {},
   "source": [
    "Now to create a Python module."
   ]
  },
  {
   "cell_type": "markdown",
   "metadata": {},
   "source": [
    "## Put the function in a python module"
   ]
  },
  {
   "cell_type": "code",
   "execution_count": null,
   "metadata": {},
   "outputs": [],
   "source": [
    "import is_prime\n",
    "is_prime.isPrime(4)\n",
    "\n",
    "# now the function is in the is_prime module!"
   ]
  },
  {
   "cell_type": "code",
   "execution_count": null,
   "metadata": {},
   "outputs": [],
   "source": [
    "for val in range (2,20):\n",
    "    print (is_prime.isPrime(val))"
   ]
  },
  {
   "cell_type": "markdown",
   "metadata": {},
   "source": [
    "## Use the function in a function\n",
    "Write a function that lists the prime numbers less than a threshold."
   ]
  },
  {
   "cell_type": "markdown",
   "metadata": {},
   "source": [
    "**Exercise**: Put this new function into a different python module and call it from the notebook."
   ]
  },
  {
   "cell_type": "code",
   "execution_count": null,
   "metadata": {},
   "outputs": [],
   "source": [
    "# signature: name, input is an integer, return a list of integers that are prime numbers.\n",
    "def subPrime(value):\n",
    "    primelist = []\n",
    "    for value in range(2, value+1):\n",
    "        if isPrime(value):\n",
    "            primelist.append(value)\n",
    "            pass\n",
    "    return primelist"
   ]
  },
  {
   "cell_type": "code",
   "execution_count": null,
   "metadata": {},
   "outputs": [],
   "source": [
    "subPrime(99)"
   ]
  },
  {
   "cell_type": "code",
   "execution_count": 2,
   "metadata": {},
   "outputs": [
    {
     "data": {
      "text/plain": [
       "[3,\n",
       " 5,\n",
       " 7,\n",
       " 11,\n",
       " 13,\n",
       " 17,\n",
       " 19,\n",
       " 23,\n",
       " 29,\n",
       " 31,\n",
       " 37,\n",
       " 41,\n",
       " 43,\n",
       " 47,\n",
       " 53,\n",
       " 59,\n",
       " 61,\n",
       " 67,\n",
       " 71,\n",
       " 73,\n",
       " 79,\n",
       " 83,\n",
       " 89,\n",
       " 97]"
      ]
     },
     "execution_count": 2,
     "metadata": {},
     "output_type": "execute_result"
    }
   ],
   "source": [
    "import is_prime\n",
    "is_prime.subPrime(99)"
   ]
  },
  {
   "cell_type": "code",
   "execution_count": null,
   "metadata": {},
   "outputs": [],
   "source": []
  }
 ],
 "metadata": {
  "kernelspec": {
   "display_name": "Python 3",
   "language": "python",
   "name": "python3"
  },
  "language_info": {
   "codemirror_mode": {
    "name": "ipython",
    "version": 3
   },
   "file_extension": ".py",
   "mimetype": "text/x-python",
   "name": "python",
   "nbconvert_exporter": "python",
   "pygments_lexer": "ipython3",
   "version": "3.6.7"
  }
 },
 "nbformat": 4,
 "nbformat_minor": 2
}
