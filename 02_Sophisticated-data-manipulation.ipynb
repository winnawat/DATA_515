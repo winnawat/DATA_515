{
 "cells": [
  {
   "cell_type": "markdown",
   "metadata": {},
   "source": [
    "# 2. Installation"
   ]
  },
  {
   "cell_type": "markdown",
   "metadata": {},
   "source": [
    "### Installing Pandas & friends\n",
    "\n",
    "Because the above packages are not included in Python itself, you need to install them separately. While it is possible to install these from source (compiling the C and/or Fortran code that does the heavy lifting under the hood) it is much easier to use a package manager like ``conda``. All it takes is to run\n",
    "\n",
    "```\n",
    "$ conda install numpy scipy pandas matplotlib\n",
    "```\n",
    "\n",
    "and (so long as your conda setup is working) the packages will be downloaded and installed on your system."
   ]
  },
  {
   "cell_type": "code",
   "execution_count": 1,
   "metadata": {},
   "outputs": [],
   "source": [
    "import numpy as np"
   ]
  },
  {
   "cell_type": "code",
   "execution_count": 2,
   "metadata": {},
   "outputs": [
    {
     "name": "stdout",
     "output_type": "stream",
     "text": [
      "# packages in environment at C:\\Users\\winsu\\Anaconda3:\n",
      "#\n",
      "# Name                    Version                   Build  Channel\n",
      "_ipyw_jlab_nb_ext_conf    0.1.0                    py37_0  \n",
      "alabaster                 0.7.11                   py37_0  \n",
      "anaconda                  5.3.1                    py37_0  \n",
      "anaconda-client           1.7.2                    py37_0  \n",
      "anaconda-navigator        1.9.2                    py37_0  \n",
      "anaconda-project          0.8.2                    py37_0  \n",
      "appdirs                   1.4.3            py37h28b3542_0  \n",
      "asn1crypto                0.24.0                   py37_0  \n",
      "astroid                   2.0.4                    py37_0  \n",
      "astropy                   3.0.4            py37hfa6e2cd_0  \n",
      "atomicwrites              1.2.1                    py37_0  \n",
      "attrs                     18.2.0           py37h28b3542_0  \n",
      "automat                   0.7.0                    py37_0  \n",
      "babel                     2.6.0                    py37_0  \n",
      "backcall                  0.1.0                    py37_0  \n",
      "backports                 1.0                      py37_1  \n",
      "backports.shutil_get_terminal_size 1.0.0                    py37_2  \n",
      "beautifulsoup4            4.6.3                    py37_0  \n",
      "bitarray                  0.8.3            py37hfa6e2cd_0  \n",
      "bkcharts                  0.2                      py37_0  \n",
      "blas                      1.0                         mkl  \n",
      "blaze                     0.11.3                   py37_0  \n",
      "bleach                    2.1.4                    py37_0  \n",
      "blosc                     1.14.4               he51fdeb_0  \n",
      "bokeh                     0.13.0                   py37_0  \n",
      "boto                      2.49.0                   py37_0  \n",
      "bottleneck                1.2.1            py37h452e1ab_1  \n",
      "bzip2                     1.0.6                    vc14_1  [vc14]  conda-forge\n",
      "ca-certificates           2019.1.23                     0  \n",
      "certifi                   2019.3.9                 py37_0  \n",
      "cffi                      1.11.5           py37h74b6da3_1  \n",
      "chardet                   3.0.4                    py37_1  \n",
      "click                     6.7                      py37_0  \n",
      "cloudpickle               0.5.5                    py37_0  \n",
      "clyent                    1.2.2                    py37_1  \n",
      "colorama                  0.3.9                    py37_0  \n",
      "comtypes                  1.1.7                    py37_0  \n",
      "conda                     4.6.11                   py37_0  \n",
      "conda-build               3.15.1                   py37_0  \n",
      "conda-env                 2.6.0                         1  \n",
      "console_shortcut          0.1.1                         3  \n",
      "constantly                15.1.0           py37h28b3542_0  \n",
      "contextlib2               0.5.5                    py37_0  \n",
      "cryptography              2.6.1            py37h7a1dbc1_0  \n",
      "curl                      7.49.1                   vc14_2  [vc14]  conda-forge\n",
      "cycler                    0.10.0                   py37_0  \n",
      "cymem                     2.0.2                    pypi_0    pypi\n",
      "cython                    0.28.5           py37h6538335_0  \n",
      "cytoolz                   0.9.0.1          py37hfa6e2cd_1  \n",
      "dask                      0.19.1                   py37_0  \n",
      "dask-core                 0.19.1                   py37_0  \n",
      "datashape                 0.5.4                    py37_1  \n",
      "decorator                 4.3.0                    py37_0  \n",
      "defusedxml                0.5.0                    py37_1  \n",
      "dill                      0.2.8.2               py37_1000    conda-forge\n",
      "distributed               1.23.1                   py37_0  \n",
      "docutils                  0.14                     py37_0  \n",
      "en-core-web-sm            2.0.0                    pypi_0    pypi\n",
      "entrypoints               0.2.3                    py37_2  \n",
      "et_xmlfile                1.0.1                    py37_0  \n",
      "fastcache                 1.0.2            py37hfa6e2cd_2  \n",
      "filelock                  3.0.8                    py37_0  \n",
      "flask                     1.0.2                    py37_1  \n",
      "flask-cors                3.0.6                    py37_0  \n",
      "freetype                  2.9.1                ha9979f8_1  \n",
      "get_terminal_size         1.0.0                h38e98db_0  \n",
      "gevent                    1.3.6            py37hfa6e2cd_0  \n",
      "glob2                     0.6                      py37_0  \n",
      "greenlet                  0.4.15           py37hfa6e2cd_0  \n",
      "h5py                      2.8.0            py37h3bdd7fb_2  \n",
      "hdf5                      1.8.17                   vc14_8  [vc14]  conda-forge\n",
      "heapdict                  1.0.0                    py37_2  \n",
      "html5lib                  1.0.1                    py37_0  \n",
      "hyperlink                 18.0.0                   py37_0  \n",
      "icc_rt                    2017.0.4             h97af966_0  \n",
      "icu                       58.2                 ha66f8fd_1  \n",
      "idna                      2.7                      py37_0  \n",
      "imageio                   2.4.1                    py37_0  \n",
      "imagesize                 1.1.0                    py37_0  \n",
      "incremental               17.5.0                   py37_0  \n",
      "intel-openmp              2019.0                      118  \n",
      "ipykernel                 4.10.0                   py37_0  \n",
      "ipython                   6.5.0                    py37_0  \n",
      "ipython_genutils          0.2.0                    py37_0  \n",
      "ipywidgets                7.4.1                    py37_0  \n",
      "isort                     4.3.4                    py37_0  \n",
      "itsdangerous              0.24                     py37_1  \n",
      "jdcal                     1.4                      py37_0  \n",
      "jedi                      0.12.1                   py37_0  \n",
      "jinja2                    2.10                     py37_0  \n",
      "jpeg                      9b                       vc14_1  [vc14]  conda-forge\n",
      "jsonschema                2.6.0                    py37_0  \n",
      "jupyter                   1.0.0                    py37_7  \n",
      "jupyter_client            5.2.3                    py37_0  \n",
      "jupyter_console           5.2.0                    py37_1  \n",
      "jupyter_core              4.4.0                    py37_0  \n",
      "jupyterlab                0.34.9                   py37_0  \n",
      "jupyterlab_launcher       0.13.1                   py37_0  \n",
      "keyring                   13.2.1                   py37_0  \n",
      "kiwisolver                1.0.1            py37h6538335_0  \n",
      "krb5                      1.16.1               hc04afaa_7  \n",
      "lazy-object-proxy         1.3.1            py37hfa6e2cd_2  \n",
      "libcurl                   7.64.0               h2a8f88b_2  \n",
      "libiconv                  1.15                 h1df5818_7  \n",
      "libpng                    1.6.36               h2a8f88b_0  \n",
      "libsodium                 1.0.16               h9d3ae62_0  \n",
      "libssh2                   1.8.0                h7a1dbc1_4  \n",
      "libtiff                   4.0.9                h36446d0_2  \n",
      "libxml2                   2.9.8                hadb2253_1  \n",
      "libxslt                   1.1.32               hf6f1972_0  \n",
      "llvmlite                  0.24.0           py37h6538335_0  \n",
      "locket                    0.2.0                    py37_1  \n",
      "lxml                      4.2.5            py37hef2cd61_0  \n",
      "lzo                       2.10                 h6df0209_2  \n",
      "m2w64-gcc-libgfortran     5.3.0                         6  \n",
      "m2w64-gcc-libs            5.3.0                         7  \n",
      "m2w64-gcc-libs-core       5.3.0                         7  \n",
      "m2w64-gmp                 6.1.0                         2  \n",
      "m2w64-libwinpthread-git   5.0.0.4634.697f757               2  \n",
      "markupsafe                1.0              py37hfa6e2cd_1  \n",
      "matplotlib                2.2.3            py37hd159220_0  \n",
      "mccabe                    0.6.1                    py37_1  \n",
      "menuinst                  1.4.14           py37hfa6e2cd_0  \n",
      "mistune                   0.8.3            py37hfa6e2cd_1  \n",
      "mkl                       2018.0.3                      1  \n",
      "mkl-service               1.1.2            py37hb217b18_5  \n",
      "mkl_fft                   1.0.6            py37hdbbee80_0  \n",
      "mkl_random                1.0.1            py37h77b88f5_1  \n",
      "more-itertools            4.3.0                    py37_0  \n",
      "mpmath                    1.0.0                    py37_2  \n",
      "msgpack-numpy             0.4.3.2                    py_0    conda-forge\n",
      "msgpack-python            0.5.6            py37he980bc4_1  \n",
      "msys2-conda-epoch         20160418                      1  \n",
      "multipledispatch          0.6.0                    py37_0  \n",
      "murmurhash                1.0.1                    pypi_0    pypi\n",
      "navigator-updater         0.2.1                    py37_0  \n",
      "nbconvert                 5.4.0                    py37_1  \n",
      "nbformat                  4.4.0                    py37_0  \n",
      "networkx                  2.1                      py37_0  \n",
      "nltk                      3.3.0                    py37_0  \n",
      "nose                      1.3.7                    py37_2  \n",
      "notebook                  5.6.0                    py37_0  \n",
      "numba                     0.39.0           py37h830ac7b_0  \n",
      "numexpr                   2.6.8            py37h9ef55f4_0  \n",
      "numpy                     1.15.4           py37ha559c80_0  \n",
      "numpy-base                1.15.4           py37h8128ebf_0  \n",
      "numpydoc                  0.8.0                    py37_0  \n",
      "odo                       0.5.1                    py37_0  \n",
      "olefile                   0.46                     py37_0  \n",
      "openpyxl                  2.5.6                    py37_0  \n",
      "openssl                   1.1.1b               he774522_1  \n",
      "packaging                 17.1                     py37_0  \n",
      "pandas                    0.23.4           py37h830ac7b_0  \n",
      "pandoc                    1.19.2.1             hb2460c7_1  \n",
      "pandocfilters             1.4.2                    py37_1  \n",
      "parso                     0.3.1                    py37_0  \n",
      "partd                     0.3.8                    py37_0  \n",
      "path.py                   11.1.0                   py37_0  \n",
      "pathlib2                  2.3.2                    py37_0  \n",
      "patsy                     0.5.0                    py37_0  \n",
      "pep8                      1.7.1                    py37_0  \n",
      "pickleshare               0.7.4                    py37_0  \n",
      "pillow                    5.2.0            py37h08bbbbd_0  \n",
      "pip                       19.0.3                   pypi_0    pypi\n",
      "pkginfo                   1.4.2                    py37_1  \n",
      "plac                      0.9.6                    pypi_0    pypi\n",
      "pluggy                    0.7.1            py37h28b3542_0  \n",
      "ply                       3.11                     py37_0  \n",
      "preshed                   2.0.1                    pypi_0    pypi\n",
      "prometheus_client         0.3.1            py37h28b3542_0  \n",
      "prompt_toolkit            1.0.15                   py37_0  \n",
      "psutil                    5.4.7            py37hfa6e2cd_0  \n",
      "py                        1.6.0                    py37_0  \n",
      "pyasn1                    0.4.4            py37h28b3542_0  \n",
      "pyasn1-modules            0.2.2                    py37_0  \n",
      "pycodestyle               2.4.0                    py37_0  \n",
      "pycosat                   0.6.3            py37hfa6e2cd_0  \n",
      "pycparser                 2.18                     py37_1  \n",
      "pycrypto                  2.6.1            py37hfa6e2cd_9  \n",
      "pycurl                    7.43.0.2         py37h7a1dbc1_0  \n",
      "pyflakes                  2.0.0                    py37_0  \n",
      "pygments                  2.2.0                    py37_0  \n",
      "pylint                    2.1.1                    py37_0  \n",
      "pyodbc                    4.0.24           py37h6538335_0  \n",
      "pyopenssl                 18.0.0                   py37_0  \n",
      "pyparsing                 2.2.0                    py37_1  \n",
      "pyqt                      5.9.2            py37h6538335_2  \n",
      "pyreadline                2.1                      pypi_0    pypi\n",
      "pysocks                   1.6.8                    py37_0  \n",
      "pytables                  3.4.4            py37he6f6034_0  \n",
      "pytest                    3.8.0                    py37_0  \n",
      "pytest-arraydiff          0.2              py37h39e3cac_0  \n",
      "pytest-astropy            0.4.0                    py37_0  \n",
      "pytest-doctestplus        0.1.3                    py37_0  \n",
      "pytest-openfiles          0.3.0                    py37_0  \n",
      "pytest-remotedata         0.3.0                    py37_0  \n",
      "python                    3.7.0                hea74fb7_0  \n",
      "python-dateutil           2.7.3                    py37_0  \n",
      "pytz                      2018.5                   py37_0  \n",
      "pywavelets                1.0.0            py37h452e1ab_0  \n",
      "pywin32                   223              py37hfa6e2cd_1  \n",
      "pywinpty                  0.5.4                    py37_0  \n",
      "pyyaml                    3.13             py37hfa6e2cd_0  \n",
      "pyzmq                     17.1.2           py37hfa6e2cd_0  \n",
      "qt                        5.9.7            vc14h73c81de_0  \n",
      "qtawesome                 0.4.4                    py37_0  \n",
      "qtconsole                 4.4.1                    py37_0  \n",
      "qtpy                      1.5.0                    py37_0  \n",
      "regex                     2018.01.10      py37hfa6e2cd_1000    conda-forge\n",
      "requests                  2.19.1                   py37_0  \n",
      "rope                      0.11.0                   py37_0  \n",
      "ruamel_yaml               0.15.46          py37hfa6e2cd_0  \n",
      "scikit-image              0.14.0           py37h6538335_1  \n",
      "scikit-learn              0.19.2           py37heebcf9a_0  \n",
      "scipy                     1.1.0            py37h4f6bf74_1  \n",
      "seaborn                   0.9.0                    py37_0  \n",
      "send2trash                1.5.0                    py37_0  \n",
      "service_identity          17.0.0           py37h28b3542_0  \n",
      "setuptools                40.2.0                   py37_0  \n",
      "simplegeneric             0.8.1                    py37_2  \n",
      "singledispatch            3.4.0.3                  py37_0  \n",
      "sip                       4.19.8           py37h6538335_0  \n",
      "six                       1.11.0                   py37_1  \n",
      "snappy                    1.1.7                    vc14_1  [vc14]  conda-forge\n",
      "snowballstemmer           1.2.1                    py37_0  \n",
      "sortedcollections         1.0.1                    py37_0  \n",
      "sortedcontainers          2.0.5                    py37_0  \n",
      "spacy                     2.0.17          py37h6538335_1001    conda-forge\n",
      "sphinx                    1.7.9                    py37_0  \n",
      "sphinxcontrib             1.0                      py37_1  \n",
      "sphinxcontrib-websupport  1.1.0                    py37_1  \n",
      "spyder                    3.3.1                    py37_1  \n",
      "spyder-kernels            0.2.6                    py37_0  \n",
      "sqlalchemy                1.2.11           py37hfa6e2cd_0  \n",
      "sqlite                    3.27.2               he774522_0  \n",
      "statsmodels               0.9.0            py37h452e1ab_0  \n",
      "sympy                     1.1.1                    py37_0  \n",
      "tblib                     1.3.2                    py37_0  \n",
      "terminado                 0.8.1                    py37_1  \n",
      "testpath                  0.3.1                    py37_0  \n",
      "thinc                     6.12.0                   pypi_0    pypi\n",
      "tk                        8.6.8                hfa6e2cd_0  \n",
      "toolz                     0.9.0                    py37_0  \n",
      "tornado                   5.1              py37hfa6e2cd_0  \n",
      "tqdm                      4.26.0           py37h28b3542_0  \n",
      "traitlets                 4.3.2                    py37_0  \n",
      "twisted                   18.7.0           py37hfa6e2cd_1  \n",
      "ujson                     1.35            py37hfa6e2cd_1001    conda-forge\n",
      "unicodecsv                0.14.1                   py37_0  \n",
      "urllib3                   1.23                     py37_0  \n",
      "vc                        14.1                 h0510ff6_4  \n",
      "vs2015_runtime            14.15.26706          h3a45250_0  \n",
      "wcwidth                   0.1.7                    py37_0  \n",
      "webencodings              0.5.1                    py37_1  \n",
      "werkzeug                  0.14.1                   py37_0  \n",
      "wheel                     0.31.1                   py37_0  \n",
      "widgetsnbextension        3.4.1                    py37_0  \n",
      "win_inet_pton             1.0.1                    py37_1  \n",
      "win_unicode_console       0.5                      py37_0  \n",
      "wincertstore              0.2                      py37_0  \n",
      "winpty                    0.4.3                         4  \n",
      "wrapt                     1.10.11          py37hfa6e2cd_2  \n",
      "xlrd                      1.1.0                    py37_1  \n",
      "xlsxwriter                1.1.0                    py37_0  \n",
      "xlwings                   0.11.8                   py37_0  \n",
      "xlwt                      1.3.0                    py37_0  \n",
      "yaml                      0.1.7                    vc14_0  [vc14]  conda-forge\n",
      "zeromq                    4.2.5                he025d50_1  \n",
      "zict                      0.1.3                    py37_0  \n",
      "zlib                      1.2.11                   vc14_0  [vc14]  conda-forge\n",
      "zope                      1.0                      py37_1  \n",
      "zope.interface            4.5.0            py37hfa6e2cd_0  \n"
     ]
    },
    {
     "name": "stderr",
     "output_type": "stream",
     "text": [
      "WARNING: The conda.compat module is deprecated and will be removed in a future release.\n"
     ]
    }
   ],
   "source": [
    "!conda list # this runs the cell as a terminal."
   ]
  },
  {
   "cell_type": "markdown",
   "metadata": {},
   "source": [
    "## multi-dimensional list"
   ]
  },
  {
   "cell_type": "code",
   "execution_count": 12,
   "metadata": {},
   "outputs": [
    {
     "data": {
      "text/plain": [
       "[[1, 2, 3], [4, 5, 6]]"
      ]
     },
     "execution_count": 12,
     "metadata": {},
     "output_type": "execute_result"
    }
   ],
   "source": [
    "multi_list = [[1, 2, 3], [4, 5, 6]]\n",
    "multi_list"
   ]
  },
  {
   "cell_type": "code",
   "execution_count": 8,
   "metadata": {},
   "outputs": [
    {
     "data": {
      "text/plain": [
       "6"
      ]
     },
     "execution_count": 8,
     "metadata": {},
     "output_type": "execute_result"
    }
   ],
   "source": [
    "# for the 6th element in this list of list\n",
    "multi_list[1][2]"
   ]
  },
  {
   "cell_type": "code",
   "execution_count": 10,
   "metadata": {},
   "outputs": [
    {
     "data": {
      "text/plain": [
       "array([[1, 2, 3],\n",
       "       [4, 5, 6]])"
      ]
     },
     "execution_count": 10,
     "metadata": {},
     "output_type": "execute_result"
    }
   ],
   "source": [
    "# putting it into an array\n",
    "my_array = np.array(multi_list)\n",
    "my_array"
   ]
  },
  {
   "cell_type": "code",
   "execution_count": 11,
   "metadata": {},
   "outputs": [
    {
     "data": {
      "text/plain": [
       "numpy.ndarray"
      ]
     },
     "execution_count": 11,
     "metadata": {},
     "output_type": "execute_result"
    }
   ],
   "source": [
    "type(my_array)"
   ]
  },
  {
   "cell_type": "code",
   "execution_count": 13,
   "metadata": {},
   "outputs": [
    {
     "data": {
      "text/plain": [
       "dtype('int32')"
      ]
     },
     "execution_count": 13,
     "metadata": {},
     "output_type": "execute_result"
    }
   ],
   "source": [
    "my_array.dtype"
   ]
  },
  {
   "cell_type": "code",
   "execution_count": 14,
   "metadata": {},
   "outputs": [
    {
     "data": {
      "text/plain": [
       "(2, 3)"
      ]
     },
     "execution_count": 14,
     "metadata": {},
     "output_type": "execute_result"
    }
   ],
   "source": [
    "my_array.shape"
   ]
  },
  {
   "cell_type": "code",
   "execution_count": 16,
   "metadata": {},
   "outputs": [
    {
     "data": {
      "text/plain": [
       "6"
      ]
     },
     "execution_count": 16,
     "metadata": {},
     "output_type": "execute_result"
    }
   ],
   "source": [
    "# access the 6th element\n",
    "my_array[1,2]"
   ]
  },
  {
   "cell_type": "code",
   "execution_count": 21,
   "metadata": {},
   "outputs": [
    {
     "data": {
      "text/plain": [
       "array([[1, 2],\n",
       "       [4, 5]])"
      ]
     },
     "execution_count": 21,
     "metadata": {},
     "output_type": "execute_result"
    }
   ],
   "source": [
    "# slice of array ([[1,2], [4,5]])\n",
    "my_array[:2, :2]"
   ]
  },
  {
   "cell_type": "code",
   "execution_count": 22,
   "metadata": {},
   "outputs": [
    {
     "data": {
      "text/plain": [
       "array([2, 5])"
      ]
     },
     "execution_count": 22,
     "metadata": {},
     "output_type": "execute_result"
    }
   ],
   "source": [
    "# slice of just second column -> keep all rows, want only second column\n",
    "my_array[:,1]"
   ]
  },
  {
   "cell_type": "markdown",
   "metadata": {},
   "source": [
    "# Pandasssssss"
   ]
  },
  {
   "cell_type": "code",
   "execution_count": 23,
   "metadata": {},
   "outputs": [],
   "source": [
    "import pandas as pd"
   ]
  },
  {
   "cell_type": "code",
   "execution_count": null,
   "metadata": {},
   "outputs": [],
   "source": [
    "'''\n",
    "Cannot use the bash commands because this is windows!\n",
    "\n",
    "!curl -o pronto.csv https://data.seattle.gov/api/views/tw7j-dfaw/rows.csv?accessType=DOWNLOAD\n",
    "\n",
    "'''"
   ]
  },
  {
   "cell_type": "code",
   "execution_count": 33,
   "metadata": {},
   "outputs": [],
   "source": [
    "import os\n",
    "os.chdir(\"C:/Users/winsu/Documents/Seattle/U of Washington/Masters in Data Science/2019_Spring/DATA_515/02_procedural-programming-in-python\")"
   ]
  },
  {
   "cell_type": "code",
   "execution_count": 34,
   "metadata": {},
   "outputs": [],
   "source": [
    "df = pd.read_csv('pronto.csv')"
   ]
  },
  {
   "cell_type": "code",
   "execution_count": 35,
   "metadata": {},
   "outputs": [
    {
     "data": {
      "text/html": [
       "<div>\n",
       "<style scoped>\n",
       "    .dataframe tbody tr th:only-of-type {\n",
       "        vertical-align: middle;\n",
       "    }\n",
       "\n",
       "    .dataframe tbody tr th {\n",
       "        vertical-align: top;\n",
       "    }\n",
       "\n",
       "    .dataframe thead th {\n",
       "        text-align: right;\n",
       "    }\n",
       "</style>\n",
       "<table border=\"1\" class=\"dataframe\">\n",
       "  <thead>\n",
       "    <tr style=\"text-align: right;\">\n",
       "      <th></th>\n",
       "      <th>trip_id</th>\n",
       "      <th>starttime</th>\n",
       "      <th>stoptime</th>\n",
       "      <th>bikeid</th>\n",
       "      <th>tripduration</th>\n",
       "      <th>from_station_name</th>\n",
       "      <th>to_station_name</th>\n",
       "      <th>from_station_id</th>\n",
       "      <th>to_station_id</th>\n",
       "      <th>usertype</th>\n",
       "      <th>gender</th>\n",
       "      <th>birthyear</th>\n",
       "    </tr>\n",
       "  </thead>\n",
       "  <tbody>\n",
       "    <tr>\n",
       "      <th>0</th>\n",
       "      <td>431</td>\n",
       "      <td>10/13/2014 10:31:00 AM</td>\n",
       "      <td>10/13/2014 10:48:00 AM</td>\n",
       "      <td>SEA00298</td>\n",
       "      <td>985.935</td>\n",
       "      <td>2nd Ave &amp; Spring St</td>\n",
       "      <td>Occidental Park / Occidental Ave S &amp; S Washing...</td>\n",
       "      <td>CBD-06</td>\n",
       "      <td>PS-04</td>\n",
       "      <td>Member</td>\n",
       "      <td>Male</td>\n",
       "      <td>1960.0</td>\n",
       "    </tr>\n",
       "    <tr>\n",
       "      <th>1</th>\n",
       "      <td>432</td>\n",
       "      <td>10/13/2014 10:32:00 AM</td>\n",
       "      <td>10/13/2014 10:48:00 AM</td>\n",
       "      <td>SEA00195</td>\n",
       "      <td>926.375</td>\n",
       "      <td>2nd Ave &amp; Spring St</td>\n",
       "      <td>Occidental Park / Occidental Ave S &amp; S Washing...</td>\n",
       "      <td>CBD-06</td>\n",
       "      <td>PS-04</td>\n",
       "      <td>Member</td>\n",
       "      <td>Male</td>\n",
       "      <td>1970.0</td>\n",
       "    </tr>\n",
       "    <tr>\n",
       "      <th>2</th>\n",
       "      <td>433</td>\n",
       "      <td>10/13/2014 10:33:00 AM</td>\n",
       "      <td>10/13/2014 10:48:00 AM</td>\n",
       "      <td>SEA00486</td>\n",
       "      <td>883.831</td>\n",
       "      <td>2nd Ave &amp; Spring St</td>\n",
       "      <td>Occidental Park / Occidental Ave S &amp; S Washing...</td>\n",
       "      <td>CBD-06</td>\n",
       "      <td>PS-04</td>\n",
       "      <td>Member</td>\n",
       "      <td>Female</td>\n",
       "      <td>1988.0</td>\n",
       "    </tr>\n",
       "    <tr>\n",
       "      <th>3</th>\n",
       "      <td>434</td>\n",
       "      <td>10/13/2014 10:34:00 AM</td>\n",
       "      <td>10/13/2014 10:48:00 AM</td>\n",
       "      <td>SEA00333</td>\n",
       "      <td>865.937</td>\n",
       "      <td>2nd Ave &amp; Spring St</td>\n",
       "      <td>Occidental Park / Occidental Ave S &amp; S Washing...</td>\n",
       "      <td>CBD-06</td>\n",
       "      <td>PS-04</td>\n",
       "      <td>Member</td>\n",
       "      <td>Female</td>\n",
       "      <td>1977.0</td>\n",
       "    </tr>\n",
       "    <tr>\n",
       "      <th>4</th>\n",
       "      <td>435</td>\n",
       "      <td>10/13/2014 10:34:00 AM</td>\n",
       "      <td>10/13/2014 10:49:00 AM</td>\n",
       "      <td>SEA00202</td>\n",
       "      <td>923.923</td>\n",
       "      <td>2nd Ave &amp; Spring St</td>\n",
       "      <td>Occidental Park / Occidental Ave S &amp; S Washing...</td>\n",
       "      <td>CBD-06</td>\n",
       "      <td>PS-04</td>\n",
       "      <td>Member</td>\n",
       "      <td>Male</td>\n",
       "      <td>1971.0</td>\n",
       "    </tr>\n",
       "  </tbody>\n",
       "</table>\n",
       "</div>"
      ],
      "text/plain": [
       "   trip_id               starttime                stoptime    bikeid  \\\n",
       "0      431  10/13/2014 10:31:00 AM  10/13/2014 10:48:00 AM  SEA00298   \n",
       "1      432  10/13/2014 10:32:00 AM  10/13/2014 10:48:00 AM  SEA00195   \n",
       "2      433  10/13/2014 10:33:00 AM  10/13/2014 10:48:00 AM  SEA00486   \n",
       "3      434  10/13/2014 10:34:00 AM  10/13/2014 10:48:00 AM  SEA00333   \n",
       "4      435  10/13/2014 10:34:00 AM  10/13/2014 10:49:00 AM  SEA00202   \n",
       "\n",
       "   tripduration    from_station_name  \\\n",
       "0       985.935  2nd Ave & Spring St   \n",
       "1       926.375  2nd Ave & Spring St   \n",
       "2       883.831  2nd Ave & Spring St   \n",
       "3       865.937  2nd Ave & Spring St   \n",
       "4       923.923  2nd Ave & Spring St   \n",
       "\n",
       "                                     to_station_name from_station_id  \\\n",
       "0  Occidental Park / Occidental Ave S & S Washing...          CBD-06   \n",
       "1  Occidental Park / Occidental Ave S & S Washing...          CBD-06   \n",
       "2  Occidental Park / Occidental Ave S & S Washing...          CBD-06   \n",
       "3  Occidental Park / Occidental Ave S & S Washing...          CBD-06   \n",
       "4  Occidental Park / Occidental Ave S & S Washing...          CBD-06   \n",
       "\n",
       "  to_station_id usertype  gender  birthyear  \n",
       "0         PS-04   Member    Male     1960.0  \n",
       "1         PS-04   Member    Male     1970.0  \n",
       "2         PS-04   Member  Female     1988.0  \n",
       "3         PS-04   Member  Female     1977.0  \n",
       "4         PS-04   Member    Male     1971.0  "
      ]
     },
     "execution_count": 35,
     "metadata": {},
     "output_type": "execute_result"
    }
   ],
   "source": [
    "df.head()"
   ]
  },
  {
   "cell_type": "code",
   "execution_count": 36,
   "metadata": {},
   "outputs": [
    {
     "data": {
      "text/plain": [
       "Index(['trip_id', 'starttime', 'stoptime', 'bikeid', 'tripduration',\n",
       "       'from_station_name', 'to_station_name', 'from_station_id',\n",
       "       'to_station_id', 'usertype', 'gender', 'birthyear'],\n",
       "      dtype='object')"
      ]
     },
     "execution_count": 36,
     "metadata": {},
     "output_type": "execute_result"
    }
   ],
   "source": [
    "df.columns"
   ]
  },
  {
   "cell_type": "code",
   "execution_count": 37,
   "metadata": {},
   "outputs": [
    {
     "data": {
      "text/plain": [
       "RangeIndex(start=0, stop=275091, step=1)"
      ]
     },
     "execution_count": 37,
     "metadata": {},
     "output_type": "execute_result"
    }
   ],
   "source": [
    "df.index"
   ]
  },
  {
   "cell_type": "code",
   "execution_count": 41,
   "metadata": {},
   "outputs": [
    {
     "data": {
      "text/html": [
       "<div>\n",
       "<style scoped>\n",
       "    .dataframe tbody tr th:only-of-type {\n",
       "        vertical-align: middle;\n",
       "    }\n",
       "\n",
       "    .dataframe tbody tr th {\n",
       "        vertical-align: top;\n",
       "    }\n",
       "\n",
       "    .dataframe thead th {\n",
       "        text-align: right;\n",
       "    }\n",
       "</style>\n",
       "<table border=\"1\" class=\"dataframe\">\n",
       "  <thead>\n",
       "    <tr style=\"text-align: right;\">\n",
       "      <th></th>\n",
       "      <th>trip_id</th>\n",
       "      <th>starttime</th>\n",
       "      <th>stoptime</th>\n",
       "      <th>bikeid</th>\n",
       "      <th>tripduration</th>\n",
       "      <th>from_station_name</th>\n",
       "      <th>to_station_name</th>\n",
       "      <th>from_station_id</th>\n",
       "      <th>to_station_id</th>\n",
       "      <th>usertype</th>\n",
       "      <th>gender</th>\n",
       "      <th>birthyear</th>\n",
       "    </tr>\n",
       "  </thead>\n",
       "  <tbody>\n",
       "    <tr>\n",
       "      <th>1</th>\n",
       "      <td>432</td>\n",
       "      <td>10/13/2014 10:32:00 AM</td>\n",
       "      <td>10/13/2014 10:48:00 AM</td>\n",
       "      <td>SEA00195</td>\n",
       "      <td>926.375</td>\n",
       "      <td>2nd Ave &amp; Spring St</td>\n",
       "      <td>Occidental Park / Occidental Ave S &amp; S Washing...</td>\n",
       "      <td>CBD-06</td>\n",
       "      <td>PS-04</td>\n",
       "      <td>Member</td>\n",
       "      <td>Male</td>\n",
       "      <td>1970.0</td>\n",
       "    </tr>\n",
       "    <tr>\n",
       "      <th>4</th>\n",
       "      <td>435</td>\n",
       "      <td>10/13/2014 10:34:00 AM</td>\n",
       "      <td>10/13/2014 10:49:00 AM</td>\n",
       "      <td>SEA00202</td>\n",
       "      <td>923.923</td>\n",
       "      <td>2nd Ave &amp; Spring St</td>\n",
       "      <td>Occidental Park / Occidental Ave S &amp; S Washing...</td>\n",
       "      <td>CBD-06</td>\n",
       "      <td>PS-04</td>\n",
       "      <td>Member</td>\n",
       "      <td>Male</td>\n",
       "      <td>1971.0</td>\n",
       "    </tr>\n",
       "    <tr>\n",
       "      <th>6</th>\n",
       "      <td>437</td>\n",
       "      <td>10/13/2014 11:35:00 AM</td>\n",
       "      <td>10/13/2014 11:45:00 AM</td>\n",
       "      <td>SEA00202</td>\n",
       "      <td>596.715</td>\n",
       "      <td>Occidental Park / Occidental Ave S &amp; S Washing...</td>\n",
       "      <td>King Street Station Plaza / 2nd Ave Extension ...</td>\n",
       "      <td>PS-04</td>\n",
       "      <td>PS-05</td>\n",
       "      <td>Member</td>\n",
       "      <td>Male</td>\n",
       "      <td>1978.0</td>\n",
       "    </tr>\n",
       "    <tr>\n",
       "      <th>7</th>\n",
       "      <td>438</td>\n",
       "      <td>10/13/2014 11:35:00 AM</td>\n",
       "      <td>10/13/2014 11:45:00 AM</td>\n",
       "      <td>SEA00311</td>\n",
       "      <td>592.131</td>\n",
       "      <td>Occidental Park / Occidental Ave S &amp; S Washing...</td>\n",
       "      <td>King Street Station Plaza / 2nd Ave Extension ...</td>\n",
       "      <td>PS-04</td>\n",
       "      <td>PS-05</td>\n",
       "      <td>Member</td>\n",
       "      <td>Male</td>\n",
       "      <td>1983.0</td>\n",
       "    </tr>\n",
       "    <tr>\n",
       "      <th>9</th>\n",
       "      <td>440</td>\n",
       "      <td>10/13/2014 11:35:00 AM</td>\n",
       "      <td>10/13/2014 11:45:00 AM</td>\n",
       "      <td>SEA00434</td>\n",
       "      <td>587.634</td>\n",
       "      <td>Occidental Park / Occidental Ave S &amp; S Washing...</td>\n",
       "      <td>King Street Station Plaza / 2nd Ave Extension ...</td>\n",
       "      <td>PS-04</td>\n",
       "      <td>PS-05</td>\n",
       "      <td>Member</td>\n",
       "      <td>Male</td>\n",
       "      <td>1958.0</td>\n",
       "    </tr>\n",
       "  </tbody>\n",
       "</table>\n",
       "</div>"
      ],
      "text/plain": [
       "   trip_id               starttime                stoptime    bikeid  \\\n",
       "1      432  10/13/2014 10:32:00 AM  10/13/2014 10:48:00 AM  SEA00195   \n",
       "4      435  10/13/2014 10:34:00 AM  10/13/2014 10:49:00 AM  SEA00202   \n",
       "6      437  10/13/2014 11:35:00 AM  10/13/2014 11:45:00 AM  SEA00202   \n",
       "7      438  10/13/2014 11:35:00 AM  10/13/2014 11:45:00 AM  SEA00311   \n",
       "9      440  10/13/2014 11:35:00 AM  10/13/2014 11:45:00 AM  SEA00434   \n",
       "\n",
       "   tripduration                                  from_station_name  \\\n",
       "1       926.375                                2nd Ave & Spring St   \n",
       "4       923.923                                2nd Ave & Spring St   \n",
       "6       596.715  Occidental Park / Occidental Ave S & S Washing...   \n",
       "7       592.131  Occidental Park / Occidental Ave S & S Washing...   \n",
       "9       587.634  Occidental Park / Occidental Ave S & S Washing...   \n",
       "\n",
       "                                     to_station_name from_station_id  \\\n",
       "1  Occidental Park / Occidental Ave S & S Washing...          CBD-06   \n",
       "4  Occidental Park / Occidental Ave S & S Washing...          CBD-06   \n",
       "6  King Street Station Plaza / 2nd Ave Extension ...           PS-04   \n",
       "7  King Street Station Plaza / 2nd Ave Extension ...           PS-04   \n",
       "9  King Street Station Plaza / 2nd Ave Extension ...           PS-04   \n",
       "\n",
       "  to_station_id usertype gender  birthyear  \n",
       "1         PS-04   Member   Male     1970.0  \n",
       "4         PS-04   Member   Male     1971.0  \n",
       "6         PS-05   Member   Male     1978.0  \n",
       "7         PS-05   Member   Male     1983.0  \n",
       "9         PS-05   Member   Male     1958.0  "
      ]
     },
     "execution_count": 41,
     "metadata": {},
     "output_type": "execute_result"
    }
   ],
   "source": [
    "smaller_df = df.loc[[1,4,6,7,9,34],:]\n",
    "smaller_df.head()"
   ]
  },
  {
   "cell_type": "code",
   "execution_count": 42,
   "metadata": {},
   "outputs": [
    {
     "data": {
      "text/plain": [
       "(275091, 12)"
      ]
     },
     "execution_count": 42,
     "metadata": {},
     "output_type": "execute_result"
    }
   ],
   "source": [
    "df.shape"
   ]
  },
  {
   "cell_type": "markdown",
   "metadata": {},
   "source": [
    "### Sophisticated Data Manipulation\n",
    "\n",
    "Here we'll cover some key features of manipulating data with pandas"
   ]
  },
  {
   "cell_type": "markdown",
   "metadata": {},
   "source": [
    "Access columns by name using square-bracket indexing:"
   ]
  },
  {
   "cell_type": "code",
   "execution_count": 44,
   "metadata": {},
   "outputs": [
    {
     "data": {
      "text/plain": [
       "pandas.core.series.Series"
      ]
     },
     "execution_count": 44,
     "metadata": {},
     "output_type": "execute_result"
    }
   ],
   "source": [
    "df_small = df['stoptime']\n",
    "type(df_small)"
   ]
  },
  {
   "cell_type": "code",
   "execution_count": 55,
   "metadata": {},
   "outputs": [],
   "source": [
    "# df_small.tolist()"
   ]
  },
  {
   "cell_type": "code",
   "execution_count": 47,
   "metadata": {},
   "outputs": [
    {
     "data": {
      "text/plain": [
       "0    0.273871\n",
       "1    0.257326\n",
       "Name: tripduration, dtype: float64"
      ]
     },
     "execution_count": 47,
     "metadata": {},
     "output_type": "execute_result"
    }
   ],
   "source": [
    "#Convert trip durations from seconds to hours, check first two\n",
    "\n",
    "trip_duration_hours = df['tripduration']/3600\n",
    "trip_duration_hours[:2]"
   ]
  },
  {
   "cell_type": "code",
   "execution_count": 52,
   "metadata": {},
   "outputs": [],
   "source": [
    "# add this result back to the data frame\n",
    "\n",
    "df['trip_duration_hours'] = df['tripduration']/3600"
   ]
  },
  {
   "cell_type": "code",
   "execution_count": 53,
   "metadata": {},
   "outputs": [
    {
     "data": {
      "text/html": [
       "<div>\n",
       "<style scoped>\n",
       "    .dataframe tbody tr th:only-of-type {\n",
       "        vertical-align: middle;\n",
       "    }\n",
       "\n",
       "    .dataframe tbody tr th {\n",
       "        vertical-align: top;\n",
       "    }\n",
       "\n",
       "    .dataframe thead th {\n",
       "        text-align: right;\n",
       "    }\n",
       "</style>\n",
       "<table border=\"1\" class=\"dataframe\">\n",
       "  <thead>\n",
       "    <tr style=\"text-align: right;\">\n",
       "      <th></th>\n",
       "      <th>trip_id</th>\n",
       "      <th>starttime</th>\n",
       "      <th>stoptime</th>\n",
       "      <th>bikeid</th>\n",
       "      <th>tripduration</th>\n",
       "      <th>from_station_name</th>\n",
       "      <th>to_station_name</th>\n",
       "      <th>from_station_id</th>\n",
       "      <th>to_station_id</th>\n",
       "      <th>usertype</th>\n",
       "      <th>gender</th>\n",
       "      <th>birthyear</th>\n",
       "      <th>trip_duration_hours</th>\n",
       "    </tr>\n",
       "  </thead>\n",
       "  <tbody>\n",
       "    <tr>\n",
       "      <th>0</th>\n",
       "      <td>431</td>\n",
       "      <td>10/13/2014 10:31:00 AM</td>\n",
       "      <td>10/13/2014 10:48:00 AM</td>\n",
       "      <td>SEA00298</td>\n",
       "      <td>985.935</td>\n",
       "      <td>2nd Ave &amp; Spring St</td>\n",
       "      <td>Occidental Park / Occidental Ave S &amp; S Washing...</td>\n",
       "      <td>CBD-06</td>\n",
       "      <td>PS-04</td>\n",
       "      <td>Member</td>\n",
       "      <td>Male</td>\n",
       "      <td>1960.0</td>\n",
       "      <td>0.273871</td>\n",
       "    </tr>\n",
       "    <tr>\n",
       "      <th>1</th>\n",
       "      <td>432</td>\n",
       "      <td>10/13/2014 10:32:00 AM</td>\n",
       "      <td>10/13/2014 10:48:00 AM</td>\n",
       "      <td>SEA00195</td>\n",
       "      <td>926.375</td>\n",
       "      <td>2nd Ave &amp; Spring St</td>\n",
       "      <td>Occidental Park / Occidental Ave S &amp; S Washing...</td>\n",
       "      <td>CBD-06</td>\n",
       "      <td>PS-04</td>\n",
       "      <td>Member</td>\n",
       "      <td>Male</td>\n",
       "      <td>1970.0</td>\n",
       "      <td>0.257326</td>\n",
       "    </tr>\n",
       "  </tbody>\n",
       "</table>\n",
       "</div>"
      ],
      "text/plain": [
       "   trip_id               starttime                stoptime    bikeid  \\\n",
       "0      431  10/13/2014 10:31:00 AM  10/13/2014 10:48:00 AM  SEA00298   \n",
       "1      432  10/13/2014 10:32:00 AM  10/13/2014 10:48:00 AM  SEA00195   \n",
       "\n",
       "   tripduration    from_station_name  \\\n",
       "0       985.935  2nd Ave & Spring St   \n",
       "1       926.375  2nd Ave & Spring St   \n",
       "\n",
       "                                     to_station_name from_station_id  \\\n",
       "0  Occidental Park / Occidental Ave S & S Washing...          CBD-06   \n",
       "1  Occidental Park / Occidental Ave S & S Washing...          CBD-06   \n",
       "\n",
       "  to_station_id usertype gender  birthyear  trip_duration_hours  \n",
       "0         PS-04   Member   Male     1960.0             0.273871  \n",
       "1         PS-04   Member   Male     1970.0             0.257326  "
      ]
     },
     "execution_count": 53,
     "metadata": {},
     "output_type": "execute_result"
    }
   ],
   "source": [
    "df.head(2)"
   ]
  },
  {
   "cell_type": "code",
   "execution_count": 54,
   "metadata": {},
   "outputs": [
    {
     "data": {
      "text/html": [
       "<div>\n",
       "<style scoped>\n",
       "    .dataframe tbody tr th:only-of-type {\n",
       "        vertical-align: middle;\n",
       "    }\n",
       "\n",
       "    .dataframe tbody tr th {\n",
       "        vertical-align: top;\n",
       "    }\n",
       "\n",
       "    .dataframe thead th {\n",
       "        text-align: right;\n",
       "    }\n",
       "</style>\n",
       "<table border=\"1\" class=\"dataframe\">\n",
       "  <thead>\n",
       "    <tr style=\"text-align: right;\">\n",
       "      <th></th>\n",
       "      <th>trip_id</th>\n",
       "      <th>starttime</th>\n",
       "      <th>stoptime</th>\n",
       "      <th>bikeid</th>\n",
       "      <th>tripduration</th>\n",
       "      <th>from_station_name</th>\n",
       "      <th>to_station_name</th>\n",
       "      <th>from_station_id</th>\n",
       "      <th>to_station_id</th>\n",
       "      <th>usertype</th>\n",
       "      <th>gender</th>\n",
       "      <th>birthyear</th>\n",
       "    </tr>\n",
       "  </thead>\n",
       "  <tbody>\n",
       "    <tr>\n",
       "      <th>0</th>\n",
       "      <td>431</td>\n",
       "      <td>10/13/2014 10:31:00 AM</td>\n",
       "      <td>10/13/2014 10:48:00 AM</td>\n",
       "      <td>SEA00298</td>\n",
       "      <td>985.935</td>\n",
       "      <td>2nd Ave &amp; Spring St</td>\n",
       "      <td>Occidental Park / Occidental Ave S &amp; S Washing...</td>\n",
       "      <td>CBD-06</td>\n",
       "      <td>PS-04</td>\n",
       "      <td>Member</td>\n",
       "      <td>Male</td>\n",
       "      <td>1960.0</td>\n",
       "    </tr>\n",
       "    <tr>\n",
       "      <th>1</th>\n",
       "      <td>432</td>\n",
       "      <td>10/13/2014 10:32:00 AM</td>\n",
       "      <td>10/13/2014 10:48:00 AM</td>\n",
       "      <td>SEA00195</td>\n",
       "      <td>926.375</td>\n",
       "      <td>2nd Ave &amp; Spring St</td>\n",
       "      <td>Occidental Park / Occidental Ave S &amp; S Washing...</td>\n",
       "      <td>CBD-06</td>\n",
       "      <td>PS-04</td>\n",
       "      <td>Member</td>\n",
       "      <td>Male</td>\n",
       "      <td>1970.0</td>\n",
       "    </tr>\n",
       "  </tbody>\n",
       "</table>\n",
       "</div>"
      ],
      "text/plain": [
       "   trip_id               starttime                stoptime    bikeid  \\\n",
       "0      431  10/13/2014 10:31:00 AM  10/13/2014 10:48:00 AM  SEA00298   \n",
       "1      432  10/13/2014 10:32:00 AM  10/13/2014 10:48:00 AM  SEA00195   \n",
       "\n",
       "   tripduration    from_station_name  \\\n",
       "0       985.935  2nd Ave & Spring St   \n",
       "1       926.375  2nd Ave & Spring St   \n",
       "\n",
       "                                     to_station_name from_station_id  \\\n",
       "0  Occidental Park / Occidental Ave S & S Washing...          CBD-06   \n",
       "1  Occidental Park / Occidental Ave S & S Washing...          CBD-06   \n",
       "\n",
       "  to_station_id usertype gender  birthyear  \n",
       "0         PS-04   Member   Male     1960.0  \n",
       "1         PS-04   Member   Male     1970.0  "
      ]
     },
     "execution_count": 54,
     "metadata": {},
     "output_type": "execute_result"
    }
   ],
   "source": [
    "# delete it\n",
    "\n",
    "del df['trip_duration_hours']\n",
    "df.head(2)"
   ]
  },
  {
   "cell_type": "markdown",
   "metadata": {},
   "source": [
    "### Masking"
   ]
  },
  {
   "cell_type": "code",
   "execution_count": 57,
   "metadata": {},
   "outputs": [],
   "source": [
    "# subset out only the rows that ahve duration above 10,000\n",
    "\n",
    "df_long_trips = df[df['tripduration'] >10000]"
   ]
  },
  {
   "cell_type": "code",
   "execution_count": 60,
   "metadata": {},
   "outputs": [
    {
     "data": {
      "text/plain": [
       "0    False\n",
       "1    False\n",
       "2    False\n",
       "3    False\n",
       "Name: tripduration, dtype: bool"
      ]
     },
     "execution_count": 60,
     "metadata": {},
     "output_type": "execute_result"
    }
   ],
   "source": [
    "# in other words - create mask\n",
    "\n",
    "mask = df['tripduration'] >10000\n",
    "mask[0:4]"
   ]
  },
  {
   "cell_type": "code",
   "execution_count": 62,
   "metadata": {},
   "outputs": [
    {
     "data": {
      "text/html": [
       "<div>\n",
       "<style scoped>\n",
       "    .dataframe tbody tr th:only-of-type {\n",
       "        vertical-align: middle;\n",
       "    }\n",
       "\n",
       "    .dataframe tbody tr th {\n",
       "        vertical-align: top;\n",
       "    }\n",
       "\n",
       "    .dataframe thead th {\n",
       "        text-align: right;\n",
       "    }\n",
       "</style>\n",
       "<table border=\"1\" class=\"dataframe\">\n",
       "  <thead>\n",
       "    <tr style=\"text-align: right;\">\n",
       "      <th></th>\n",
       "      <th>trip_id</th>\n",
       "      <th>starttime</th>\n",
       "      <th>stoptime</th>\n",
       "      <th>bikeid</th>\n",
       "      <th>tripduration</th>\n",
       "      <th>from_station_name</th>\n",
       "      <th>to_station_name</th>\n",
       "      <th>from_station_id</th>\n",
       "      <th>to_station_id</th>\n",
       "      <th>usertype</th>\n",
       "      <th>gender</th>\n",
       "      <th>birthyear</th>\n",
       "    </tr>\n",
       "  </thead>\n",
       "  <tbody>\n",
       "    <tr>\n",
       "      <th>68</th>\n",
       "      <td>506</td>\n",
       "      <td>10/13/2014 12:08:00 PM</td>\n",
       "      <td>10/13/2014 07:07:00 PM</td>\n",
       "      <td>SEA00155</td>\n",
       "      <td>25119.114</td>\n",
       "      <td>2nd Ave &amp; Spring St</td>\n",
       "      <td>2nd Ave &amp; Vine St</td>\n",
       "      <td>CBD-06</td>\n",
       "      <td>BT-03</td>\n",
       "      <td>Member</td>\n",
       "      <td>Male</td>\n",
       "      <td>1988.0</td>\n",
       "    </tr>\n",
       "    <tr>\n",
       "      <th>193</th>\n",
       "      <td>649</td>\n",
       "      <td>10/13/2014 02:54:00 PM</td>\n",
       "      <td>10/13/2014 05:59:00 PM</td>\n",
       "      <td>SEA00193</td>\n",
       "      <td>11144.159</td>\n",
       "      <td>NE 42nd St &amp; University Way NE</td>\n",
       "      <td>NE 42nd St &amp; University Way NE</td>\n",
       "      <td>UD-02</td>\n",
       "      <td>UD-02</td>\n",
       "      <td>Short-Term Pass Holder</td>\n",
       "      <td>NaN</td>\n",
       "      <td>NaN</td>\n",
       "    </tr>\n",
       "  </tbody>\n",
       "</table>\n",
       "</div>"
      ],
      "text/plain": [
       "     trip_id               starttime                stoptime    bikeid  \\\n",
       "68       506  10/13/2014 12:08:00 PM  10/13/2014 07:07:00 PM  SEA00155   \n",
       "193      649  10/13/2014 02:54:00 PM  10/13/2014 05:59:00 PM  SEA00193   \n",
       "\n",
       "     tripduration               from_station_name  \\\n",
       "68      25119.114             2nd Ave & Spring St   \n",
       "193     11144.159  NE 42nd St & University Way NE   \n",
       "\n",
       "                    to_station_name from_station_id to_station_id  \\\n",
       "68                2nd Ave & Vine St          CBD-06         BT-03   \n",
       "193  NE 42nd St & University Way NE           UD-02         UD-02   \n",
       "\n",
       "                   usertype gender  birthyear  \n",
       "68                   Member   Male     1988.0  \n",
       "193  Short-Term Pass Holder    NaN        NaN  "
      ]
     },
     "execution_count": 62,
     "metadata": {},
     "output_type": "execute_result"
    }
   ],
   "source": [
    "# apply mask\n",
    "\n",
    "df[mask].head(2)"
   ]
  },
  {
   "cell_type": "code",
   "execution_count": 63,
   "metadata": {},
   "outputs": [],
   "source": [
    "# Make a copy of a slice\n",
    "df_subset = df[['starttime', 'stoptime']].copy()\n",
    "df_subset['trip_hours'] = df['tripduration']/3600"
   ]
  },
  {
   "cell_type": "code",
   "execution_count": 64,
   "metadata": {},
   "outputs": [
    {
     "data": {
      "text/plain": [
       "Male      135171\n",
       "Female     34997\n",
       "Other       3647\n",
       "Name: gender, dtype: int64"
      ]
     },
     "execution_count": 64,
     "metadata": {},
     "output_type": "execute_result"
    }
   ],
   "source": [
    "pd.value_counts(df[\"gender\"])"
   ]
  },
  {
   "cell_type": "code",
   "execution_count": 66,
   "metadata": {},
   "outputs": [
    {
     "data": {
      "text/plain": [
       "64.0      523\n",
       "65.0      250\n",
       "66.0      717\n",
       "67.0      425\n",
       "88.0        1\n",
       "74.0      148\n",
       "62.0      668\n",
       "68.0      593\n",
       "34.0    10491\n",
       "69.0     1010\n",
       "26.0     3157\n",
       "35.0     8699\n",
       "71.0       36\n",
       "36.0     7288\n",
       "73.0      138\n",
       "37.0     8950\n",
       "75.0        1\n",
       "38.0     9028\n",
       "77.0        2\n",
       "39.0     5135\n",
       "21.0      124\n",
       "40.0     3187\n",
       "41.0     4030\n",
       "83.0        7\n",
       "42.0     4187\n",
       "76.0       11\n",
       "43.0     3037\n",
       "56.0     1583\n",
       "30.0     7121\n",
       "23.0      547\n",
       "        ...  \n",
       "45.0     3085\n",
       "46.0     1832\n",
       "47.0     2938\n",
       "70.0      335\n",
       "48.0     3471\n",
       "32.0    15381\n",
       "25.0     1243\n",
       "49.0     2741\n",
       "50.0     2290\n",
       "51.0     2335\n",
       "52.0     2255\n",
       "53.0     2064\n",
       "20.0        6\n",
       "27.0     4920\n",
       "55.0     2671\n",
       "28.0     5405\n",
       "72.0      962\n",
       "54.0     2349\n",
       "57.0     2838\n",
       "33.0     7568\n",
       "22.0      285\n",
       "29.0     6936\n",
       "59.0     1118\n",
       "60.0     1460\n",
       "61.0      314\n",
       "80.0       47\n",
       "58.0     1655\n",
       "31.0     8228\n",
       "24.0     1437\n",
       "63.0      910\n",
       "Name: birthyear, Length: 61, dtype: int64"
      ]
     },
     "execution_count": 66,
     "metadata": {},
     "output_type": "execute_result"
    }
   ],
   "source": [
    "pd.value_counts(2019 - df[\"birthyear\"], sort=False)"
   ]
  },
  {
   "cell_type": "code",
   "execution_count": 67,
   "metadata": {},
   "outputs": [
    {
     "data": {
      "text/html": [
       "<div>\n",
       "<style scoped>\n",
       "    .dataframe tbody tr th:only-of-type {\n",
       "        vertical-align: middle;\n",
       "    }\n",
       "\n",
       "    .dataframe tbody tr th {\n",
       "        vertical-align: top;\n",
       "    }\n",
       "\n",
       "    .dataframe thead th {\n",
       "        text-align: right;\n",
       "    }\n",
       "</style>\n",
       "<table border=\"1\" class=\"dataframe\">\n",
       "  <thead>\n",
       "    <tr style=\"text-align: right;\">\n",
       "      <th></th>\n",
       "      <th>trip_id</th>\n",
       "      <th>starttime</th>\n",
       "      <th>stoptime</th>\n",
       "      <th>bikeid</th>\n",
       "      <th>tripduration</th>\n",
       "      <th>from_station_name</th>\n",
       "      <th>to_station_name</th>\n",
       "      <th>to_station_id</th>\n",
       "      <th>usertype</th>\n",
       "      <th>gender</th>\n",
       "      <th>birthyear</th>\n",
       "    </tr>\n",
       "    <tr>\n",
       "      <th>from_station_id</th>\n",
       "      <th></th>\n",
       "      <th></th>\n",
       "      <th></th>\n",
       "      <th></th>\n",
       "      <th></th>\n",
       "      <th></th>\n",
       "      <th></th>\n",
       "      <th></th>\n",
       "      <th></th>\n",
       "      <th></th>\n",
       "      <th></th>\n",
       "    </tr>\n",
       "  </thead>\n",
       "  <tbody>\n",
       "    <tr>\n",
       "      <th>BT-01</th>\n",
       "      <td>10463</td>\n",
       "      <td>10463</td>\n",
       "      <td>10463</td>\n",
       "      <td>10463</td>\n",
       "      <td>10463</td>\n",
       "      <td>10463</td>\n",
       "      <td>10463</td>\n",
       "      <td>10463</td>\n",
       "      <td>10463</td>\n",
       "      <td>4162</td>\n",
       "      <td>4162</td>\n",
       "    </tr>\n",
       "    <tr>\n",
       "      <th>BT-03</th>\n",
       "      <td>7334</td>\n",
       "      <td>7334</td>\n",
       "      <td>7334</td>\n",
       "      <td>7334</td>\n",
       "      <td>7334</td>\n",
       "      <td>7334</td>\n",
       "      <td>7334</td>\n",
       "      <td>7334</td>\n",
       "      <td>7334</td>\n",
       "      <td>4862</td>\n",
       "      <td>4862</td>\n",
       "    </tr>\n",
       "    <tr>\n",
       "      <th>BT-04</th>\n",
       "      <td>4666</td>\n",
       "      <td>4666</td>\n",
       "      <td>4666</td>\n",
       "      <td>4666</td>\n",
       "      <td>4666</td>\n",
       "      <td>4666</td>\n",
       "      <td>4666</td>\n",
       "      <td>4666</td>\n",
       "      <td>4666</td>\n",
       "      <td>3424</td>\n",
       "      <td>3424</td>\n",
       "    </tr>\n",
       "    <tr>\n",
       "      <th>BT-05</th>\n",
       "      <td>5699</td>\n",
       "      <td>5699</td>\n",
       "      <td>5699</td>\n",
       "      <td>5699</td>\n",
       "      <td>5699</td>\n",
       "      <td>5699</td>\n",
       "      <td>5699</td>\n",
       "      <td>5699</td>\n",
       "      <td>5699</td>\n",
       "      <td>2975</td>\n",
       "      <td>2975</td>\n",
       "    </tr>\n",
       "    <tr>\n",
       "      <th>BT-06</th>\n",
       "      <td>150</td>\n",
       "      <td>150</td>\n",
       "      <td>150</td>\n",
       "      <td>150</td>\n",
       "      <td>150</td>\n",
       "      <td>150</td>\n",
       "      <td>150</td>\n",
       "      <td>150</td>\n",
       "      <td>150</td>\n",
       "      <td>130</td>\n",
       "      <td>130</td>\n",
       "    </tr>\n",
       "  </tbody>\n",
       "</table>\n",
       "</div>"
      ],
      "text/plain": [
       "                 trip_id  starttime  stoptime  bikeid  tripduration  \\\n",
       "from_station_id                                                       \n",
       "BT-01              10463      10463     10463   10463         10463   \n",
       "BT-03               7334       7334      7334    7334          7334   \n",
       "BT-04               4666       4666      4666    4666          4666   \n",
       "BT-05               5699       5699      5699    5699          5699   \n",
       "BT-06                150        150       150     150           150   \n",
       "\n",
       "                 from_station_name  to_station_name  to_station_id  usertype  \\\n",
       "from_station_id                                                                \n",
       "BT-01                        10463            10463          10463     10463   \n",
       "BT-03                         7334             7334           7334      7334   \n",
       "BT-04                         4666             4666           4666      4666   \n",
       "BT-05                         5699             5699           5699      5699   \n",
       "BT-06                          150              150            150       150   \n",
       "\n",
       "                 gender  birthyear  \n",
       "from_station_id                     \n",
       "BT-01              4162       4162  \n",
       "BT-03              4862       4862  \n",
       "BT-04              3424       3424  \n",
       "BT-05              2975       2975  \n",
       "BT-06               130        130  "
      ]
     },
     "execution_count": 67,
     "metadata": {},
     "output_type": "execute_result"
    }
   ],
   "source": [
    "# Groupby: pass in a list of values: for each staion ID, count the columns\n",
    "\n",
    "df_count = df.groupby(['from_station_id']).count()\n",
    "df_count.head()"
   ]
  },
  {
   "cell_type": "code",
   "execution_count": 68,
   "metadata": {},
   "outputs": [
    {
     "data": {
      "text/html": [
       "<div>\n",
       "<style scoped>\n",
       "    .dataframe tbody tr th:only-of-type {\n",
       "        vertical-align: middle;\n",
       "    }\n",
       "\n",
       "    .dataframe tbody tr th {\n",
       "        vertical-align: top;\n",
       "    }\n",
       "\n",
       "    .dataframe thead th {\n",
       "        text-align: right;\n",
       "    }\n",
       "</style>\n",
       "<table border=\"1\" class=\"dataframe\">\n",
       "  <thead>\n",
       "    <tr style=\"text-align: right;\">\n",
       "      <th></th>\n",
       "      <th>trip_id</th>\n",
       "      <th>tripduration</th>\n",
       "      <th>birthyear</th>\n",
       "    </tr>\n",
       "    <tr>\n",
       "      <th>from_station_id</th>\n",
       "      <th></th>\n",
       "      <th></th>\n",
       "      <th></th>\n",
       "    </tr>\n",
       "  </thead>\n",
       "  <tbody>\n",
       "    <tr>\n",
       "      <th>BT-01</th>\n",
       "      <td>147831.009844</td>\n",
       "      <td>1375.031203</td>\n",
       "      <td>1980.131427</td>\n",
       "    </tr>\n",
       "    <tr>\n",
       "      <th>BT-03</th>\n",
       "      <td>139404.294655</td>\n",
       "      <td>1019.200684</td>\n",
       "      <td>1976.505142</td>\n",
       "    </tr>\n",
       "    <tr>\n",
       "      <th>BT-04</th>\n",
       "      <td>157992.809687</td>\n",
       "      <td>891.095897</td>\n",
       "      <td>1979.877044</td>\n",
       "    </tr>\n",
       "    <tr>\n",
       "      <th>BT-05</th>\n",
       "      <td>139283.572381</td>\n",
       "      <td>1199.949481</td>\n",
       "      <td>1975.937479</td>\n",
       "    </tr>\n",
       "    <tr>\n",
       "      <th>BT-06</th>\n",
       "      <td>291807.953333</td>\n",
       "      <td>659.770547</td>\n",
       "      <td>1975.830769</td>\n",
       "    </tr>\n",
       "  </tbody>\n",
       "</table>\n",
       "</div>"
      ],
      "text/plain": [
       "                       trip_id  tripduration    birthyear\n",
       "from_station_id                                          \n",
       "BT-01            147831.009844   1375.031203  1980.131427\n",
       "BT-03            139404.294655   1019.200684  1976.505142\n",
       "BT-04            157992.809687    891.095897  1979.877044\n",
       "BT-05            139283.572381   1199.949481  1975.937479\n",
       "BT-06            291807.953333    659.770547  1975.830769"
      ]
     },
     "execution_count": 68,
     "metadata": {},
     "output_type": "execute_result"
    }
   ],
   "source": [
    "# Groupby: pass in a list of values: for each staion ID, take the mean of the columns\n",
    "\n",
    "df_count = df.groupby(['from_station_id']).mean()\n",
    "df_count.head()"
   ]
  },
  {
   "cell_type": "markdown",
   "metadata": {},
   "source": [
    "### Without .count() or .mean(), the result will be a dictionary of rows of raw data under each station ID"
   ]
  },
  {
   "cell_type": "markdown",
   "metadata": {},
   "source": [
    "# Matplotlib"
   ]
  },
  {
   "cell_type": "code",
   "execution_count": 81,
   "metadata": {},
   "outputs": [],
   "source": [
    "# This puts the charts wihin the notebook, instead of opening a new window\n",
    "\n",
    "%matplotlib inline"
   ]
  },
  {
   "cell_type": "code",
   "execution_count": 82,
   "metadata": {},
   "outputs": [
    {
     "data": {
      "text/plain": [
       "<matplotlib.axes._subplots.AxesSubplot at 0x23cb9d40e80>"
      ]
     },
     "execution_count": 82,
     "metadata": {},
     "output_type": "execute_result"
    },
    {
     "data": {
      "image/png": "[encoded data removed]",
      "text/plain": [
       "<Figure size 432x288 with 1 Axes>"
      ]
     },
     "metadata": {
      "needs_background": "light"
     },
     "output_type": "display_data"
    }
   ],
   "source": [
    "import matplotlib.pyplot as plt\n",
    "df['birthyear'].hist(bins=20)"
   ]
  },
  {
   "cell_type": "code",
   "execution_count": 83,
   "metadata": {},
   "outputs": [],
   "source": [
    "plt.style.use(\"ggplot\")"
   ]
  },
  {
   "cell_type": "markdown",
   "metadata": {},
   "source": [
    "## Breakout: Exploring the Data\n",
    "\n",
    "Make a plot of the total number of rides as a function of month of the year (You'll need to extract the month, use a ``groupby``, and find the appropriate aggregation to count the number in each group)."
   ]
  },
  {
   "cell_type": "code",
   "execution_count": null,
   "metadata": {},
   "outputs": [],
   "source": [
    "df_month = df.groupby([''])"
   ]
  }
 ],
 "metadata": {
  "kernelspec": {
   "display_name": "Python 3",
   "language": "python",
   "name": "python3"
  },
  "language_info": {
   "codemirror_mode": {
    "name": "ipython",
    "version": 3
   },
   "file_extension": ".py",
   "mimetype": "text/x-python",
   "name": "python",
   "nbconvert_exporter": "python",
   "pygments_lexer": "ipython3",
   "version": "3.7.0"
  }
 },
 "nbformat": 4,
 "nbformat_minor": 2
}
